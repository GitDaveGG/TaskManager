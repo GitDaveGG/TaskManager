{
 "cells": [
  {
   "cell_type": "code",
   "execution_count": 12,
   "metadata": {},
   "outputs": [],
   "source": [
    "import tkinter\n",
    "from datetime import datetime\n"
   ]
  },
  {
   "cell_type": "code",
   "execution_count": 30,
   "metadata": {},
   "outputs": [],
   "source": [
    "def sprawdzanie_daty_input(data):\n",
    "    try:\n",
    "        datetime.strptime(data, '%Y-%m-%d')\n",
    "        return data\n",
    "    except ValueError:\n",
    "        print(\"Niepoprawny format daty. Spróbuj ponownie\")\n",
    "        return sprawdzanie_daty_input(input(\"Podaj datę (RRRR-MM-DD): \"))\n",
    "\n",
    "\n",
    "\n",
    "def tworzenie_zadania():\n",
    "    tytuł = input(\"Podaj tytuł zadania\")\n",
    "    data = sprawdzanie_daty_input(input(\"Podaj datę (RRRR-MM-DD): \"))\n",
    "    trudnosc = input(\"podaj trudnosc zadania\")\n",
    "\n",
    "\n",
    "    return tytuł, data, trudnosc           \n",
    "\n",
    "\n",
    "\n",
    "\n",
    "\n"
   ]
  },
  {
   "cell_type": "code",
   "execution_count": 28,
   "metadata": {},
   "outputs": [
    {
     "data": {
      "text/plain": [
       "('sdaf', '2022-12-12')"
      ]
     },
     "execution_count": 28,
     "metadata": {},
     "output_type": "execute_result"
    }
   ],
   "source": [
    "zadanie_1"
   ]
  },
  {
   "cell_type": "code",
   "execution_count": 1,
   "metadata": {},
   "outputs": [
    {
     "name": "stdout",
     "output_type": "stream",
     "text": [
      "Wybrano: Nie\n"
     ]
    }
   ],
   "source": [
    "import tkinter as tk\n",
    "from tkinter import messagebox\n",
    "\n",
    "def zapytanie_tak_nie():\n",
    "    odpowiedz = messagebox.askquestion(\"Pytanie\", \"Czy chcesz kontynuować?\")\n",
    "    if odpowiedz == 'yes':\n",
    "        print(\"Wybrano: Tak\")\n",
    "    else:\n",
    "        print(\"Wybrano: Nie\")\n",
    "\n",
    "# Tworzenie okna głównego\n",
    "root = tk.Tk()\n",
    "root.title(\"Zapytanie Tak/Nie\")\n",
    "\n",
    "# Przycisk do wywołania zapytania\n",
    "przycisk = tk.Button(root, text=\"Zapytanie Tak/Nie\", command=zapytanie_tak_nie)\n",
    "przycisk.pack(pady=20)\n",
    "\n",
    "# Uruchomienie pętli głównej\n",
    "root.mainloop()\n"
   ]
  },
  {
   "cell_type": "code",
   "execution_count": null,
   "metadata": {},
   "outputs": [],
   "source": []
  }
 ],
 "metadata": {
  "kernelspec": {
   "display_name": "Python 3",
   "language": "python",
   "name": "python3"
  },
  "language_info": {
   "codemirror_mode": {
    "name": "ipython",
    "version": 3
   },
   "file_extension": ".py",
   "mimetype": "text/x-python",
   "name": "python",
   "nbconvert_exporter": "python",
   "pygments_lexer": "ipython3",
   "version": "3.11.8"
  }
 },
 "nbformat": 4,
 "nbformat_minor": 2
}
